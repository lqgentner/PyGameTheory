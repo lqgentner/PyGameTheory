{
 "cells": [
  {
   "attachments": {},
   "cell_type": "markdown",
   "metadata": {},
   "source": [
    "# PyGameTheory example notebook\n",
    "Author: Luis Gentner"
   ]
  },
  {
   "attachments": {},
   "cell_type": "markdown",
   "metadata": {},
   "source": [
    "## Preconditions\n",
    "Please make sure that the packages `numpy`, `scipy`, and `tabulate`, are installed:"
   ]
  },
  {
   "cell_type": "code",
   "execution_count": null,
   "metadata": {
    "vscode": {
     "languageId": "bat"
    }
   },
   "outputs": [],
   "source": [
    "pip install --upgrade numpy scipy tabulate"
   ]
  },
  {
   "attachments": {},
   "cell_type": "markdown",
   "metadata": {},
   "source": [
    "## Import the module"
   ]
  },
  {
   "cell_type": "code",
   "execution_count": 1,
   "metadata": {},
   "outputs": [],
   "source": [
    "import numpy as np\n",
    "import pygametheory as pgt\n"
   ]
  },
  {
   "attachments": {},
   "cell_type": "markdown",
   "metadata": {},
   "source": [
    "## Creating a cooperative game\n",
    "As an example for the cost distribution in a cooperative game, we create the \"petrol supply game\" from the lecture with the following value function:\n",
    "- $c(A) = 2000$\n",
    "- $c(B) = 4480$\n",
    "- $c(C) = 4480$\n",
    "- $c(\\{A, B\\}) = 6000$\n",
    "- $c(\\{A, C\\}) = 6480$\n",
    "- $c(\\{B, C\\}) = 7660$\n",
    "- $c(\\{A, B, C\\}) = 9660$"
   ]
  },
  {
   "cell_type": "code",
   "execution_count": 2,
   "metadata": {},
   "outputs": [
    {
     "name": "stdout",
     "output_type": "stream",
     "text": [
      "A cooperative game with the following value function:\n",
      "Coalition      Value\n",
      "-----------  -------\n",
      "A               2000\n",
      "B               4480\n",
      "C               4480\n",
      "A, B            6000\n",
      "A, C            6480\n",
      "B, C            7660\n",
      "A, B, C         9660\n"
     ]
    }
   ],
   "source": [
    "players = \"ABC\"\n",
    "val_func = [2000, 4480, 4480,\n",
    "            6000, 6480, 7660,\n",
    "            9660]\n",
    "\n",
    "coop_game = pgt.CoopGame(players, val_func)\n",
    "print(coop_game)\n"
   ]
  },
  {
   "cell_type": "code",
   "execution_count": 3,
   "metadata": {},
   "outputs": [
    {
     "name": "stdout",
     "output_type": "stream",
     "text": [
      "Coa.     Player      Indv. cost c    Shapley val. φ\n",
      "-------  --------  --------------  ----------------\n",
      "A        A                2000.00           2000.00\n",
      "B        B                4480.00           4480.00\n",
      "C        C                4480.00           4480.00\n",
      "-------  --------  --------------  ----------------\n",
      "A, B     A                2000.00           1760.00\n",
      "         B                4480.00           4240.00\n",
      "A, C     A                2000.00           2000.00\n",
      "         C                4480.00           4480.00\n",
      "B, C     B                4480.00           3830.00\n",
      "         C                4480.00           3830.00\n",
      "-------  --------  --------------  ----------------\n",
      "A, B, C  A                2000.00           1920.00\n",
      "         B                4480.00           3750.00\n",
      "         C                4480.00           3990.00\n"
     ]
    }
   ],
   "source": [
    "coop_game.shapley()"
   ]
  },
  {
   "attachments": {},
   "cell_type": "markdown",
   "metadata": {},
   "source": [
    "## Creating a buying group game\n",
    "\n",
    "We create a buying group game with the following properties:\n",
    "- The players are called A, B, and C\n",
    "- The players order the following item quantities each:\n",
    "  - Player A: 1000\n",
    "  - Player B: 1500\n",
    "  - Player C: 2000\n",
    "- The item base price is 1.00 €\n",
    "- The manufacturer gives the following bulk discounts:\n",
    "  - ≥ 1000: 10 %\n",
    "  - ≥ 2000: 15 %\n",
    "  - ≥ 3000: 20 %"
   ]
  },
  {
   "cell_type": "code",
   "execution_count": 4,
   "metadata": {},
   "outputs": [
    {
     "name": "stdout",
     "output_type": "stream",
     "text": [
      "A buying group game with the following value functions:\n",
      "Coalition      Cost    Saving\n",
      "-----------  ------  --------\n",
      "A               900       100\n",
      "B              1350       150\n",
      "C              1700       300\n",
      "A, B           2125       375\n",
      "A, C           2400       600\n",
      "B, C           2800       700\n",
      "A, B, C        3600       900\n"
     ]
    }
   ],
   "source": [
    "players = \"ABC\"\n",
    "units = [1000, 1500, 2000]\n",
    "discounts = {3000: 0.2,\n",
    "             2000: 0.15,\n",
    "             1000: 0.1}\n",
    "base_price = 1.0\n",
    "\n",
    "buygrp = pgt.BuyingGroup(players, units, discounts, base_price)\n",
    "print(buygrp)\n"
   ]
  },
  {
   "attachments": {},
   "cell_type": "markdown",
   "metadata": {},
   "source": [
    "We print the cost and saving value functions:"
   ]
  },
  {
   "cell_type": "code",
   "execution_count": 5,
   "metadata": {},
   "outputs": [
    {
     "name": "stdout",
     "output_type": "stream",
     "text": [
      "Coalition      Og. cost    Discount     Cost    Saving\n",
      "-----------  ----------  ----------  -------  --------\n",
      "A               1000.00        0.10   900.00    100.00\n",
      "B               1500.00        0.10  1350.00    150.00\n",
      "C               2000.00        0.15  1700.00    300.00\n",
      "A, B            2500.00        0.15  2125.00    375.00\n",
      "A, C            3000.00        0.20  2400.00    600.00\n",
      "B, C            3500.00        0.20  2800.00    700.00\n",
      "A, B, C         4500.00        0.20  3600.00    900.00\n"
     ]
    }
   ],
   "source": [
    "buygrp.coalition_cost()"
   ]
  },
  {
   "attachments": {},
   "cell_type": "markdown",
   "metadata": {},
   "source": [
    "We calculate the proportional costs and savings per player for all coalitions:"
   ]
  },
  {
   "cell_type": "code",
   "execution_count": 6,
   "metadata": {},
   "outputs": [
    {
     "name": "stdout",
     "output_type": "stream",
     "text": [
      "Coa.     Player      Indv. cost    Cost π_c    Save π_s    π_c + π_s\n",
      "-------  --------  ------------  ----------  ----------  -----------\n",
      "A        A               900.00      900.00      100.00      1000.00\n",
      "B        B              1350.00     1350.00      150.00      1500.00\n",
      "C        C              1700.00     1700.00      300.00      2000.00\n",
      "-------  --------  ------------  ----------  ----------  -----------\n",
      "A, B     A               900.00      850.00      150.00      1000.00\n",
      "         B              1350.00     1275.00      225.00      1500.00\n",
      "A, C     A               900.00      830.77      150.00       980.77\n",
      "         C              1700.00     1569.23      450.00      2019.23\n",
      "B, C     B              1350.00     1239.34      233.33      1472.68\n",
      "         C              1700.00     1560.66      466.67      2027.32\n",
      "-------  --------  ------------  ----------  ----------  -----------\n",
      "A, B, C  A               900.00      820.25      163.64       983.89\n",
      "         B              1350.00     1230.38      245.45      1475.83\n",
      "         C              1700.00     1549.37      490.91      2040.28\n"
     ]
    }
   ],
   "source": [
    "buygrp.proportional()"
   ]
  },
  {
   "attachments": {},
   "cell_type": "markdown",
   "metadata": {},
   "source": [
    "## Creating a normal-form game\n",
    "We use the [Prioner's dilemma](https://en.wikipedia.org/wiki/Prisoner%27s_dilemma) as an example:"
   ]
  },
  {
   "cell_type": "code",
   "execution_count": 12,
   "metadata": {},
   "outputs": [
    {
     "name": "stdout",
     "output_type": "stream",
     "text": [
      "A normal form game with payoff matrices:\n",
      "Player A (Row player):\n",
      "[[-1 -5]\n",
      " [ 0 -2]]\n",
      "Player B (Column player):\n",
      "[[-1  0]\n",
      " [-5 -2]]\n"
     ]
    }
   ],
   "source": [
    "A = np.array([[-1, -5], [0, -2]])\n",
    "B = A.transpose()\n",
    "\n",
    "prisoners = pgt.NormFormGame(A, B)\n",
    "print(prisoners)"
   ]
  },
  {
   "attachments": {},
   "cell_type": "markdown",
   "metadata": {},
   "source": [
    "Finding the dominant strategies:"
   ]
  },
  {
   "cell_type": "code",
   "execution_count": 13,
   "metadata": {},
   "outputs": [
    {
     "name": "stdout",
     "output_type": "stream",
     "text": [
      "Found dominant strategies:\n",
      "Player      Index  Values\n",
      "--------  -------  --------\n",
      "A (rows)        2  [ 0 -2]\n",
      "B (cols)        2  [ 0 -2] \n",
      "\n"
     ]
    }
   ],
   "source": [
    "prisoners.dominance()"
   ]
  },
  {
   "attachments": {},
   "cell_type": "markdown",
   "metadata": {},
   "source": [
    "Finding the Nash equilibria:"
   ]
  },
  {
   "cell_type": "code",
   "execution_count": 14,
   "metadata": {},
   "outputs": [
    {
     "name": "stdout",
     "output_type": "stream",
     "text": [
      "Found Nash equilibria:\n",
      "  No.  Pos.      Val. A    Val. B\n",
      "-----  ------  --------  --------\n",
      "    1  (2, 2)        -2        -2 \n",
      "\n"
     ]
    }
   ],
   "source": [
    "prisoners.nash()"
   ]
  }
 ],
 "metadata": {
  "kernelspec": {
   "display_name": "Python 3",
   "language": "python",
   "name": "python3"
  },
  "language_info": {
   "codemirror_mode": {
    "name": "ipython",
    "version": 3
   },
   "file_extension": ".py",
   "mimetype": "text/x-python",
   "name": "python",
   "nbconvert_exporter": "python",
   "pygments_lexer": "ipython3",
   "version": "3.11.3"
  },
  "orig_nbformat": 4
 },
 "nbformat": 4,
 "nbformat_minor": 2
}
